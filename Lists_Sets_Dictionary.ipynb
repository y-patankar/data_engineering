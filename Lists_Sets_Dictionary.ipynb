{
  "nbformat": 4,
  "nbformat_minor": 0,
  "metadata": {
    "colab": {
      "provenance": [],
      "authorship_tag": "ABX9TyMPbF+BjjNuM4AiwCdbqfs1",
      "include_colab_link": true
    },
    "kernelspec": {
      "name": "python3",
      "display_name": "Python 3"
    },
    "language_info": {
      "name": "python"
    }
  },
  "cells": [
    {
      "cell_type": "markdown",
      "metadata": {
        "id": "view-in-github",
        "colab_type": "text"
      },
      "source": [
        "<a href=\"https://colab.research.google.com/github/y-patankar/data_engineering/blob/practice/Lists_Sets_Dictionary.ipynb\" target=\"_parent\"><img src=\"https://colab.research.google.com/assets/colab-badge.svg\" alt=\"Open In Colab\"/></a>"
      ]
    },
    {
      "cell_type": "code",
      "source": [
        "tasks= ['Dev','test','monitoring']\n",
        "print(tasks)"
      ],
      "metadata": {
        "colab": {
          "base_uri": "https://localhost:8080/"
        },
        "id": "NK4khaQmIjKE",
        "outputId": "b907ede3-60f2-4976-df04-e753e8d8d9b7"
      },
      "execution_count": 1,
      "outputs": [
        {
          "output_type": "stream",
          "name": "stdout",
          "text": [
            "['Dev', 'test', 'monitoring']\n"
          ]
        }
      ]
    },
    {
      "cell_type": "code",
      "execution_count": 2,
      "metadata": {
        "id": "BPvctftRFeJT"
      },
      "outputs": [],
      "source": [
        "#List are 0 indexed\n",
        "#popular function that include with lists are insert(), pop()  , remove()\n"
      ]
    },
    {
      "cell_type": "code",
      "source": [
        "#Sets\n",
        "tasks={'dev','test','monitoring'}\n",
        "print(tasks)\n",
        "#sets are unordred list and give random order output"
      ],
      "metadata": {
        "colab": {
          "base_uri": "https://localhost:8080/"
        },
        "id": "bILB921rJYYZ",
        "outputId": "bb4adb89-3fa4-4002-8fc1-fcd8f61c67d8"
      },
      "execution_count": 6,
      "outputs": [
        {
          "output_type": "stream",
          "name": "stdout",
          "text": [
            "{'test', 'monitoring', 'dev'}\n"
          ]
        }
      ]
    },
    {
      "cell_type": "code",
      "source": [
        "#sets are also unique, they remove all duplicate values while output\n",
        "tasks={'dev','test','monitoring','dev','test'}\n",
        "print(tasks)"
      ],
      "metadata": {
        "colab": {
          "base_uri": "https://localhost:8080/"
        },
        "id": "_iUf1TEpJo82",
        "outputId": "2c60a506-7f82-48ee-adcb-568d319f20dd"
      },
      "execution_count": 7,
      "outputs": [
        {
          "output_type": "stream",
          "name": "stdout",
          "text": [
            "{'test', 'monitoring', 'dev'}\n"
          ]
        }
      ]
    },
    {
      "cell_type": "code",
      "source": [
        "tasks.add('random')\n",
        "print(tasks)"
      ],
      "metadata": {
        "colab": {
          "base_uri": "https://localhost:8080/"
        },
        "id": "X9fwLXEHKdy4",
        "outputId": "ecdf9ae1-306e-41d7-879f-670a45b0c32d"
      },
      "execution_count": 8,
      "outputs": [
        {
          "output_type": "stream",
          "name": "stdout",
          "text": [
            "{'test', 'monitoring', 'random', 'dev'}\n"
          ]
        }
      ]
    },
    {
      "cell_type": "code",
      "source": [
        "#Dictionary\n",
        "new_dict={'user':'Yathartha','id':2, 'email': 'ytharthsp@gmail.com'}\n",
        "print(new_dict)\n",
        "print(new_dict['user'])\n",
        "print(new_dict.values())\n",
        "\n"
      ],
      "metadata": {
        "colab": {
          "base_uri": "https://localhost:8080/"
        },
        "id": "Xe6PVz8mMlGv",
        "outputId": "9673ebe8-6c40-4052-9919-ace4906d6790"
      },
      "execution_count": 11,
      "outputs": [
        {
          "output_type": "stream",
          "name": "stdout",
          "text": [
            "{'user': 'Yathartha', 'id': 2, 'email': 'ytharthsp@gmail.com'}\n",
            "Yathartha\n",
            "dict_values(['Yathartha', 2, 'ytharthsp@gmail.com'])\n"
          ]
        }
      ]
    },
    {
      "cell_type": "code",
      "source": [
        "#Addting new key-value pair to dictionary\n",
        "new_dict.update({'mobile':9009009009})\n",
        "print(new_dict)"
      ],
      "metadata": {
        "colab": {
          "base_uri": "https://localhost:8080/"
        },
        "id": "YmnqYjHsNkvq",
        "outputId": "4e6ba043-e51f-4232-d3d7-81b2a41c6547"
      },
      "execution_count": 13,
      "outputs": [
        {
          "output_type": "stream",
          "name": "stdout",
          "text": [
            "{'user': 'Yathartha', 'id': 2, 'email': 'ytharthsp@gmail.com', 'mobile': 9009009009}\n"
          ]
        }
      ]
    }
  ]
}