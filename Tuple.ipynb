{
  "nbformat": 4,
  "nbformat_minor": 0,
  "metadata": {
    "colab": {
      "provenance": [],
      "authorship_tag": "ABX9TyMTPPOLbUuzuDXWaYhzA0av",
      "include_colab_link": true
    },
    "kernelspec": {
      "name": "python3",
      "display_name": "Python 3"
    },
    "language_info": {
      "name": "python"
    }
  },
  "cells": [
    {
      "cell_type": "markdown",
      "metadata": {
        "id": "view-in-github",
        "colab_type": "text"
      },
      "source": [
        "<a href=\"https://colab.research.google.com/github/y-patankar/data_engineering/blob/practice/Tuple.ipynb\" target=\"_parent\"><img src=\"https://colab.research.google.com/assets/colab-badge.svg\" alt=\"Open In Colab\"/></a>"
      ]
    },
    {
      "cell_type": "code",
      "execution_count": 2,
      "metadata": {
        "colab": {
          "base_uri": "https://localhost:8080/"
        },
        "id": "KhFUCe1-DQLa",
        "outputId": "652cb990-90a7-45c7-9beb-58c259498dde"
      },
      "outputs": [
        {
          "output_type": "stream",
          "name": "stdout",
          "text": [
            "(1, 'Yathartha', 'LA', 9999999999)\n"
          ]
        }
      ],
      "source": [
        "#Tuple and its baiscs\n",
        "employee= (1,'Yathartha','LA',9999999999)\n",
        "print(employee)"
      ]
    },
    {
      "cell_type": "code",
      "source": [
        "print(len(employee))"
      ],
      "metadata": {
        "colab": {
          "base_uri": "https://localhost:8080/"
        },
        "id": "UUH-bk0rDrko",
        "outputId": "d9803ffd-1ced-4e12-c097-41588cea1bbe"
      },
      "execution_count": 3,
      "outputs": [
        {
          "output_type": "stream",
          "name": "stdout",
          "text": [
            "4\n"
          ]
        }
      ]
    },
    {
      "cell_type": "code",
      "source": [
        "#Tuple are immutable and hence can't be changed. We can convert them into list and then do the changes\n",
        "employee= (1,'Yathartha','LA',9999999999)\n",
        "new_emp=list(employee)\n",
        "new_emp[1]='Y Patankar'\n",
        "employee=tuple(new_emp)\n",
        "print(employee)"
      ],
      "metadata": {
        "colab": {
          "base_uri": "https://localhost:8080/"
        },
        "id": "BMk_KEq8EEvV",
        "outputId": "17e4cd7b-c9f8-4ebf-ec86-b60b78517d75"
      },
      "execution_count": 7,
      "outputs": [
        {
          "output_type": "stream",
          "name": "stdout",
          "text": [
            "(1, 'Y Patankar', 'LA', 9999999999)\n"
          ]
        }
      ]
    }
  ]
}