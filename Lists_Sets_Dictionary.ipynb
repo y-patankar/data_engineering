{
  "nbformat": 4,
  "nbformat_minor": 0,
  "metadata": {
    "colab": {
      "provenance": [],
      "authorship_tag": "ABX9TyMf4KvgqpYwGoKgI7NPTQTc",
      "include_colab_link": true
    },
    "kernelspec": {
      "name": "python3",
      "display_name": "Python 3"
    },
    "language_info": {
      "name": "python"
    }
  },
  "cells": [
    {
      "cell_type": "markdown",
      "metadata": {
        "id": "view-in-github",
        "colab_type": "text"
      },
      "source": [
        "<a href=\"https://colab.research.google.com/github/y-patankar/data_engineering/blob/practice/Lists_Sets_Dictionary.ipynb\" target=\"_parent\"><img src=\"https://colab.research.google.com/assets/colab-badge.svg\" alt=\"Open In Colab\"/></a>"
      ]
    },
    {
      "cell_type": "code",
      "source": [
        "tasks= ['Dev','test','monitoring']\n",
        "print(tasks)"
      ],
      "metadata": {
        "colab": {
          "base_uri": "https://localhost:8080/"
        },
        "id": "NK4khaQmIjKE",
        "outputId": "b907ede3-60f2-4976-df04-e753e8d8d9b7"
      },
      "execution_count": 1,
      "outputs": [
        {
          "output_type": "stream",
          "name": "stdout",
          "text": [
            "['Dev', 'test', 'monitoring']\n"
          ]
        }
      ]
    },
    {
      "cell_type": "code",
      "execution_count": 2,
      "metadata": {
        "id": "BPvctftRFeJT"
      },
      "outputs": [],
      "source": [
        "#List are 0 indexed\n",
        "#popular function that include with lists are insert(), pop()  , remove()\n"
      ]
    },
    {
      "cell_type": "code",
      "source": [
        "#Sets\n",
        "tasks={'dev','test','monitoring'}\n",
        "print(tasks)\n",
        "#sets are unordred list and give random order output"
      ],
      "metadata": {
        "colab": {
          "base_uri": "https://localhost:8080/"
        },
        "id": "bILB921rJYYZ",
        "outputId": "bb4adb89-3fa4-4002-8fc1-fcd8f61c67d8"
      },
      "execution_count": 6,
      "outputs": [
        {
          "output_type": "stream",
          "name": "stdout",
          "text": [
            "{'test', 'monitoring', 'dev'}\n"
          ]
        }
      ]
    },
    {
      "cell_type": "code",
      "source": [
        "#sets are also unique, they remove all duplicate values while output\n",
        "tasks={'dev','test','monitoring','dev','test'}\n",
        "print(tasks)"
      ],
      "metadata": {
        "colab": {
          "base_uri": "https://localhost:8080/"
        },
        "id": "_iUf1TEpJo82",
        "outputId": "2c60a506-7f82-48ee-adcb-568d319f20dd"
      },
      "execution_count": 7,
      "outputs": [
        {
          "output_type": "stream",
          "name": "stdout",
          "text": [
            "{'test', 'monitoring', 'dev'}\n"
          ]
        }
      ]
    },
    {
      "cell_type": "code",
      "source": [
        "tasks.add('random')\n",
        "print(tasks)"
      ],
      "metadata": {
        "colab": {
          "base_uri": "https://localhost:8080/"
        },
        "id": "X9fwLXEHKdy4",
        "outputId": "ecdf9ae1-306e-41d7-879f-670a45b0c32d"
      },
      "execution_count": 8,
      "outputs": [
        {
          "output_type": "stream",
          "name": "stdout",
          "text": [
            "{'test', 'monitoring', 'random', 'dev'}\n"
          ]
        }
      ]
    },
    {
      "cell_type": "code",
      "source": [
        "#Dictionary\n",
        "new_dict={'user':'Yathartha','id':2, 'email': 'ytharthsp@gmail.com'}\n",
        "print(new_dict)\n",
        "print(new_dict['user'])\n",
        "print(new_dict.values())\n",
        "\n"
      ],
      "metadata": {
        "colab": {
          "base_uri": "https://localhost:8080/"
        },
        "id": "Xe6PVz8mMlGv",
        "outputId": "9673ebe8-6c40-4052-9919-ace4906d6790"
      },
      "execution_count": 11,
      "outputs": [
        {
          "output_type": "stream",
          "name": "stdout",
          "text": [
            "{'user': 'Yathartha', 'id': 2, 'email': 'ytharthsp@gmail.com'}\n",
            "Yathartha\n",
            "dict_values(['Yathartha', 2, 'ytharthsp@gmail.com'])\n"
          ]
        }
      ]
    },
    {
      "cell_type": "code",
      "source": [
        "#Addting new key-value pair to dictionary\n",
        "new_dict.update({'mobile':9009009009})\n",
        "print(new_dict)"
      ],
      "metadata": {
        "colab": {
          "base_uri": "https://localhost:8080/"
        },
        "id": "YmnqYjHsNkvq",
        "outputId": "78a96193-4f0d-4eef-cff6-e6504bf0a9a6"
      },
      "execution_count": 16,
      "outputs": [
        {
          "output_type": "stream",
          "name": "stdout",
          "text": [
            "{'user': 'Yathartha', 'email': 'ytharthsp@gmail.com', 'mobile': 9009009009}\n"
          ]
        }
      ]
    },
    {
      "cell_type": "code",
      "source": [
        "#removing a key-value pair\n",
        "new_dict.pop('mobile')\n",
        "print(new_dict)"
      ],
      "metadata": {
        "colab": {
          "base_uri": "https://localhost:8080/"
        },
        "id": "2DW01OyJO5qs",
        "outputId": "e7adce14-991b-474c-a363-9913a8c28e2b"
      },
      "execution_count": 18,
      "outputs": [
        {
          "output_type": "stream",
          "name": "stdout",
          "text": [
            "{'user': 'Yathartha', 'email': 'ytharthsp@gmail.com'}\n"
          ]
        }
      ]
    },
    {
      "cell_type": "code",
      "source": [
        "#copying dictionary\n",
        "copy_dict=new_dict\n",
        "print(copy_dict)\n",
        "#if we update copy_dict, the original dict will get updated too\n",
        "copy_dict.update({'mobile':900900})\n",
        "print(copy_dict)\n",
        "print(new_dict)"
      ],
      "metadata": {
        "colab": {
          "base_uri": "https://localhost:8080/"
        },
        "id": "Jo4e8m7URSXU",
        "outputId": "36c25b09-1afd-4f70-82d1-48035da311cd"
      },
      "execution_count": 21,
      "outputs": [
        {
          "output_type": "stream",
          "name": "stdout",
          "text": [
            "{'user': 'Yathartha', 'email': 'ytharthsp@gmail.com'}\n",
            "{'user': 'Yathartha', 'email': 'ytharthsp@gmail.com', 'mobile': 900900}\n",
            "{'user': 'Yathartha', 'email': 'ytharthsp@gmail.com', 'mobile': 900900}\n"
          ]
        }
      ]
    }
  ]
}