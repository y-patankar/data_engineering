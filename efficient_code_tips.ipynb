{
  "nbformat": 4,
  "nbformat_minor": 0,
  "metadata": {
    "colab": {
      "provenance": [],
      "authorship_tag": "ABX9TyNzn7eTCJGg74+qgnligWk4",
      "include_colab_link": true
    },
    "kernelspec": {
      "name": "python3",
      "display_name": "Python 3"
    },
    "language_info": {
      "name": "python"
    }
  },
  "cells": [
    {
      "cell_type": "markdown",
      "metadata": {
        "id": "view-in-github",
        "colab_type": "text"
      },
      "source": [
        "<a href=\"https://colab.research.google.com/github/y-patankar/data_engineering/blob/practice/efficient_code_tips.ipynb\" target=\"_parent\"><img src=\"https://colab.research.google.com/assets/colab-badge.svg\" alt=\"Open In Colab\"/></a>"
      ]
    },
    {
      "cell_type": "code",
      "execution_count": null,
      "metadata": {
        "id": "OGci1fFYkBIY"
      },
      "outputs": [],
      "source": [
        "Efficient Code\n"
      ]
    },
    {
      "cell_type": "markdown",
      "source": [
        "Efficient Code  \n",
        "\n",
        "1. Choose right data structures. Performance of sets and dictionary is more than list.\n",
        "2. Minimize function calls in loops\n",
        "3. Avoid global variable\n",
        "4. Use built-in function and libraries."
      ],
      "metadata": {
        "id": "CVqqAIgOkHd0"
      }
    },
    {
      "cell_type": "markdown",
      "source": [],
      "metadata": {
        "id": "TJwiJDkMkLmx"
      }
    }
  ]
}