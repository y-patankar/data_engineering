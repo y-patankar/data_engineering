{
  "nbformat": 4,
  "nbformat_minor": 0,
  "metadata": {
    "colab": {
      "provenance": [],
      "authorship_tag": "ABX9TyPc+u3nb7evo79dQ9x8p1xU",
      "include_colab_link": true
    },
    "kernelspec": {
      "name": "python3",
      "display_name": "Python 3"
    },
    "language_info": {
      "name": "python"
    }
  },
  "cells": [
    {
      "cell_type": "markdown",
      "metadata": {
        "id": "view-in-github",
        "colab_type": "text"
      },
      "source": [
        "<a href=\"https://colab.research.google.com/github/y-patankar/data_engineering/blob/practice/Strings.ipynb\" target=\"_parent\"><img src=\"https://colab.research.google.com/assets/colab-badge.svg\" alt=\"Open In Colab\"/></a>"
      ]
    },
    {
      "cell_type": "code",
      "execution_count": 7,
      "metadata": {
        "colab": {
          "base_uri": "https://localhost:8080/"
        },
        "id": "X-bB7gaFteX6",
        "outputId": "0a1ad6d5-7a00-407f-d056-3473d19b33ca"
      },
      "outputs": [
        {
          "output_type": "stream",
          "name": "stdout",
          "text": [
            "Hi This is a old string\n"
          ]
        }
      ],
      "source": [
        "old_string='Hi This is a old string'\n",
        "print(old_string)"
      ]
    },
    {
      "cell_type": "code",
      "source": [
        "new_string=old_string.replace('old','new')\n",
        "print(new_string)"
      ],
      "metadata": {
        "colab": {
          "base_uri": "https://localhost:8080/"
        },
        "id": "5_bWb3ySuD-j",
        "outputId": "8b2ae75d-7017-4337-b47a-9041b812af66"
      },
      "execution_count": 8,
      "outputs": [
        {
          "output_type": "stream",
          "name": "stdout",
          "text": [
            "Hi This is a new string\n"
          ]
        }
      ]
    },
    {
      "cell_type": "code",
      "source": [
        "index=new_string.find('is')\n",
        "print(index)"
      ],
      "metadata": {
        "colab": {
          "base_uri": "https://localhost:8080/"
        },
        "id": "0M0KXijQvTWI",
        "outputId": "bea91e89-a056-4210-b6eb-82da0f4b88a9"
      },
      "execution_count": 13,
      "outputs": [
        {
          "output_type": "stream",
          "name": "stdout",
          "text": [
            "5\n"
          ]
        }
      ]
    },
    {
      "cell_type": "code",
      "source": [],
      "metadata": {
        "id": "WUfXgeFhwD_U"
      },
      "execution_count": null,
      "outputs": []
    },
    {
      "cell_type": "code",
      "source": [
        "#.lower(), .upper(), .strip() function are also there."
      ],
      "metadata": {
        "id": "jOfz3nwBwEAc"
      },
      "execution_count": null,
      "outputs": []
    }
  ]
}