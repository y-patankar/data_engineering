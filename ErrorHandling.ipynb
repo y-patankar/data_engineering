{
  "nbformat": 4,
  "nbformat_minor": 0,
  "metadata": {
    "colab": {
      "provenance": [],
      "authorship_tag": "ABX9TyMPAwYACwxMBghbk+SCqBI+",
      "include_colab_link": true
    },
    "kernelspec": {
      "name": "python3",
      "display_name": "Python 3"
    },
    "language_info": {
      "name": "python"
    }
  },
  "cells": [
    {
      "cell_type": "markdown",
      "metadata": {
        "id": "view-in-github",
        "colab_type": "text"
      },
      "source": [
        "<a href=\"https://colab.research.google.com/github/y-patankar/data_engineering/blob/practice/ErrorHandling.ipynb\" target=\"_parent\"><img src=\"https://colab.research.google.com/assets/colab-badge.svg\" alt=\"Open In Colab\"/></a>"
      ]
    },
    {
      "cell_type": "code",
      "execution_count": 1,
      "metadata": {
        "id": "2G7yg6NnwYI3"
      },
      "outputs": [],
      "source": [
        "#Using try and except for error handling\n"
      ]
    },
    {
      "cell_type": "code",
      "source": [
        "# incase we know which type of error we are trying to handle\n",
        "try:\n",
        "  print(10/0)\n",
        "except ZeroDivisionError:\n",
        "  print('Can not divide by Zero')"
      ],
      "metadata": {
        "colab": {
          "base_uri": "https://localhost:8080/"
        },
        "id": "V2bMrV62wyRX",
        "outputId": "4e49a2f5-fd88-4d80-ec86-b27e1c26a4f3"
      },
      "execution_count": 6,
      "outputs": [
        {
          "output_type": "stream",
          "name": "stdout",
          "text": [
            "Can not divide by Zero\n"
          ]
        }
      ]
    },
    {
      "cell_type": "code",
      "source": [
        "#incase we don't know the type of error we are trying to handle\n",
        "#here we will just use direct except without specifying any type\n",
        "try:\n",
        "  print(20/0)\n",
        "except:\n",
        "  print('Can not divide by zero')"
      ],
      "metadata": {
        "colab": {
          "base_uri": "https://localhost:8080/"
        },
        "id": "ZWHzClWXxWpz",
        "outputId": "b3c134c4-8348-4632-bbe3-9adb58a36c7a"
      },
      "execution_count": 7,
      "outputs": [
        {
          "output_type": "stream",
          "name": "stdout",
          "text": [
            "Can not divide by zero\n"
          ]
        }
      ]
    }
  ]
}